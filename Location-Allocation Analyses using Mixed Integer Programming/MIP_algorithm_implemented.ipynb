{
 "cells": [
  {
   "cell_type": "markdown",
   "metadata": {},
   "source": [
    "### Purpose of the Code:\n",
    "#### The goal of the code is to optimize the location of drugstores (Drogerien) in the city of Salzburg so that every residential building is assigned to one nearby store (within walking distance of 1500 meters), while minimizing the number of newly opened stores. The model is implemented using Mixed Integer Programming (MIP) and solved using Python (with PuLP).\n",
    "\n",
    "#### Constraints:\n",
    "\n",
    "1. Each building must be assigned to exactly one drugstore.\n",
    "\n",
    "2. A building can only be assigned to an open (selected) drugstore.\n",
    "\n",
    "3. Maximum walking distance is 1500 meters between building and store.\n",
    "\n",
    "4. Limit on the number of drugstores per district:\n",
    "\n",
    "- Usually max 4 per district, but up to 5 in \"Leopoldskron/Moos\" due to low density and long distances.\n",
    "\n",
    "5. For districts with existing drugstores, the model only optimizes for unserved buildings, using only new locations and adjusting the limit accordingly.\n",
    "\n",
    "6. If too many drugstores are selected, the model automatically keeps the ones that serve the most buildings within the 1500 m range.\n"
   ]
  },
  {
   "cell_type": "code",
   "execution_count": 1,
   "metadata": {},
   "outputs": [
    {
     "name": "stdout",
     "output_type": "stream",
     "text": [
      "Index(['origin_id', 'destination_id', 'entry_cost', 'network_cost',\n",
      "       'exit_cost', 'total_cost'],\n",
      "      dtype='object')\n",
      "Opened drugstores are located at: ['way/51948104']\n",
      "Drugstore at location way/51948104 serves the following buildings: ['relation/1019211', 'relation/1559740', 'relation/1567960', 'relation/1660944', 'relation/2141054', 'relation/10357662', 'way/38010229', 'way/38010230', 'way/38050248', 'way/38050250', 'way/38050254', 'way/38050256', 'way/38050817', 'way/38050819', 'way/38050822', 'way/38050823', 'way/38050824', 'way/38050826', 'way/38050829', 'way/38050830', 'way/38050832', 'way/38050834', 'way/38050835', 'way/38050836', 'way/38050850', 'way/38051086', 'way/38587624', 'way/38587641', 'way/38653478', 'way/45030509', 'way/45030619', 'way/45030859', 'way/45032116', 'way/45393138', 'way/51948104', 'way/55251347', 'way/64942832', 'way/64942833', 'way/64942853', 'way/64942864', 'way/64942867', 'way/64942876', 'way/66058228', 'way/66058250', 'way/66138189', 'way/66138235', 'way/67408315', 'way/67408316', 'way/67408318', 'way/67408322', 'way/67408324', 'way/67408330', 'way/67408331', 'way/67408333', 'way/67408334', 'way/67408335', 'way/67408338', 'way/67827022', 'way/67827026', 'way/67827027', 'way/67827039', 'way/67827045', 'way/67827048', 'way/67827050', 'way/86701224', 'way/86701225', 'way/86701226', 'way/88831777', 'way/97718855', 'way/104990567', 'way/110418364', 'way/110432991', 'way/110432992', 'way/110432993', 'way/110432996', 'way/110444155', 'way/110444159', 'way/110464888', 'way/110464910', 'way/110464911', 'way/110464912', 'way/110464917', 'way/110464922', 'way/110464926', 'way/110464933', 'way/110521556', 'way/110521558', 'way/110521562', 'way/110521563', 'way/110521564', 'way/110521600', 'way/110874442', 'way/110874479', 'way/110885920', 'way/110885924', 'way/110885931', 'way/110885940', 'way/110885946', 'way/110885950', 'way/110885951', 'way/110885955', 'way/110885960', 'way/110885961', 'way/110885964', 'way/110885971', 'way/110885973', 'way/110885977', 'way/110885980', 'way/110885986', 'way/110885987', 'way/110885991', 'way/110886007', 'way/110886009', 'way/110886016', 'way/110886020', 'way/110886034', 'way/110886036', 'way/110886038', 'way/110886042', 'way/110886046', 'way/110886047', 'way/110886049', 'way/110886051', 'way/110887987', 'way/110887988', 'way/110887989', 'way/110887992', 'way/110887993', 'way/111323214', 'way/111323215', 'way/111323219', 'way/111323233', 'way/111323238', 'way/111323239', 'way/111323242', 'way/111323246', 'way/111323249', 'way/111323252', 'way/111323258', 'way/111323259', 'way/111323284', 'way/111323296', 'way/111323308', 'way/111323311', 'way/111323330', 'way/111323334', 'way/111323349', 'way/111323368', 'way/111323374', 'way/111323398', 'way/111323401', 'way/111323404', 'way/111323434', 'way/111323445', 'way/111323484', 'way/111323486', 'way/111323491', 'way/111323494', 'way/111323495', 'way/111323498', 'way/111433848', 'way/111433851', 'way/111433853', 'way/111433855', 'way/111433857', 'way/111433859', 'way/111433862', 'way/111433866', 'way/111433871', 'way/111433874', 'way/111433876', 'way/111433878', 'way/111433879', 'way/111433882', 'way/111433883', 'way/111448835', 'way/111448836', 'way/111448838', 'way/111448840', 'way/111448841', 'way/111448842', 'way/111448843', 'way/111448844', 'way/111448846', 'way/111448847', 'way/111448850', 'way/111448851', 'way/111448852', 'way/111448853', 'way/111448854', 'way/111448855', 'way/111448856', 'way/111448860', 'way/111448862', 'way/111448864', 'way/111448867', 'way/111448869', 'way/111448871', 'way/111451925', 'way/111451927', 'way/111451930', 'way/111451931', 'way/111451932', 'way/111451935', 'way/111451937', 'way/111451941', 'way/111451942', 'way/111451947', 'way/111451948', 'way/111451950', 'way/111530595', 'way/111530597', 'way/111530598', 'way/111530599', 'way/111530603', 'way/111530605', 'way/111530610', 'way/111530615', 'way/111530619', 'way/111530620', 'way/111530627', 'way/111530628', 'way/111530630', 'way/111586705', 'way/111586708', 'way/111586710', 'way/111586712', 'way/111586716', 'way/111586717', 'way/111586718', 'way/111586728', 'way/111586730', 'way/111590109', 'way/111608617', 'way/111608618', 'way/111608619', 'way/111608620', 'way/111608621', 'way/111608622', 'way/111608626', 'way/111608627', 'way/111608628', 'way/111608629', 'way/111608631', 'way/111608633', 'way/111608634', 'way/111608635', 'way/111608636', 'way/111608637', 'way/111608638', 'way/111608639', 'way/111608640', 'way/111608641', 'way/111608642', 'way/111608643', 'way/111608644', 'way/111608645', 'way/111608646', 'way/111608647', 'way/111608648', 'way/111608649', 'way/111608650', 'way/111608651', 'way/111608652', 'way/111608654', 'way/111608657', 'way/111608658', 'way/111608659', 'way/111608660', 'way/111608661', 'way/111608662', 'way/111608663', 'way/111608664', 'way/111758558', 'way/111758560', 'way/111758563', 'way/111758564', 'way/111758565', 'way/111758568', 'way/111758569', 'way/111758574', 'way/111758578', 'way/111758580', 'way/111758581', 'way/111758589', 'way/111758591', 'way/111758592', 'way/111758593', 'way/111758594', 'way/111758595', 'way/111758597', 'way/111758598', 'way/111758599', 'way/111758600', 'way/111758601', 'way/111758602', 'way/111758604', 'way/111758606', 'way/111758608', 'way/111758609', 'way/111758610', 'way/111758611', 'way/111758612', 'way/111758613', 'way/111758614', 'way/111758615', 'way/111758617', 'way/111758618', 'way/111758619', 'way/111758621', 'way/111758622', 'way/111758623', 'way/111758624', 'way/111758625', 'way/111758626', 'way/111758627', 'way/111758628', 'way/111758629', 'way/111758630', 'way/111758631', 'way/111758632', 'way/111758633', 'way/111758634', 'way/111758636', 'way/111758637', 'way/111758639', 'way/111758640', 'way/111758641', 'way/111758642', 'way/111758643', 'way/111758644', 'way/111758647', 'way/111758648', 'way/111758649', 'way/111758651', 'way/111758652', 'way/111758653', 'way/111758654', 'way/111758655', 'way/111758656', 'way/111758657', 'way/111758658', 'way/111758662', 'way/111758666', 'way/111758667', 'way/111758668', 'way/111758672', 'way/111758675', 'way/111758677', 'way/111758679', 'way/111758682', 'way/111758686', 'way/111758687', 'way/111758689', 'way/111758691', 'way/111758693', 'way/111758696', 'way/111758699', 'way/111758701', 'way/111758703', 'way/111981146', 'way/111981147', 'way/111981157', 'way/111981170', 'way/111981173', 'way/111981175', 'way/111981183', 'way/111981184', 'way/111981186', 'way/111981190', 'way/111995336', 'way/112461204', 'way/112461206', 'way/112461210', 'way/112693363', 'way/112693364', 'way/112693368', 'way/112693373', 'way/112693376', 'way/112693379', 'way/112693380', 'way/112693384', 'way/112693387', 'way/112693394', 'way/112837737', 'way/112837752', 'way/112837762', 'way/121395552', 'way/127807575', 'way/134400589', 'way/134662388', 'way/134662390', 'way/134662403', 'way/138267913', 'way/138267921', 'way/138267931', 'way/138267934', 'way/138267937', 'way/138267957', 'way/138267979', 'way/138268024', 'way/138268034', 'way/138348408', 'way/140971803', 'way/140971804', 'way/140971805', 'way/140971806', 'way/140971807', 'way/140971808', 'way/140971809', 'way/140971810', 'way/140971812', 'way/140971813', 'way/140971814', 'way/140971816', 'way/140971817', 'way/140971818', 'way/140971820', 'way/140971821', 'way/140971822', 'way/140971823', 'way/140971824', 'way/140971826', 'way/140971827', 'way/140971830', 'way/140971832', 'way/140971834', 'way/140971835', 'way/140971836', 'way/140971840', 'way/140971842', 'way/140971843', 'way/140971846', 'way/140971849', 'way/140971851', 'way/140971852', 'way/140971853', 'way/140971854', 'way/140971855', 'way/140971856', 'way/140971858', 'way/140971859', 'way/140971861', 'way/140971862', 'way/140971864', 'way/140971865', 'way/140971867', 'way/140971869', 'way/140971872', 'way/140971873', 'way/140971874', 'way/140971877', 'way/140971879', 'way/140971882', 'way/140971884', 'way/140971886', 'way/140971890', 'way/140971892', 'way/140971894', 'way/140971896', 'way/140971898', 'way/140971899', 'way/140971902', 'way/140971905', 'way/140971906', 'way/140971910', 'way/140971911', 'way/140971914', 'way/140971916', 'way/141693648', 'way/141693650', 'way/141693652', 'way/141693653', 'way/141693654', 'way/141693656', 'way/141693658', 'way/141693659', 'way/141693660', 'way/141693661', 'way/141693662', 'way/141693663', 'way/141693665', 'way/141693667', 'way/141693671', 'way/141693673', 'way/141693674', 'way/141693677', 'way/141693681', 'way/141693682', 'way/141693683', 'way/141693685', 'way/141693686', 'way/141693687', 'way/144791320', 'way/144791321', 'way/144791322', 'way/144791323', 'way/144791324', 'way/155039020', 'way/155039022', 'way/155039023', 'way/155039024', 'way/155039026', 'way/158070157', 'way/158070159', 'way/158070160', 'way/160012382', 'way/169138310', 'way/169138311', 'way/169138312', 'way/169230112', 'way/169949754', 'way/171899110', 'way/171900657', 'way/181748258', 'way/181748259', 'way/181748260', 'way/228409548', 'way/243664570', 'way/243664574', 'way/244227471', 'way/244227472', 'way/244227473', 'way/291474962', 'way/291474967', 'way/291483573', 'way/296208043', 'way/296208044', 'way/296208045', 'way/411111558', 'way/411111559', 'way/459815530', 'way/467408138', 'way/467408139', 'way/467408140', 'way/479018096', 'way/549418065', 'way/549418066', 'way/549418067', 'way/739555622', 'way/739555624', 'way/739555626', 'way/739555628', 'way/739555630', 'way/739555632', 'way/739563081', 'way/739563084', 'way/739563086', 'way/742805167', 'way/742805170', 'way/744554231', 'way/744554241', 'way/745316123', 'way/776574173', 'way/802887217', 'way/802887218', 'way/802887219', 'way/802887220', 'way/802887221', 'way/802900922', 'way/802900923', 'way/803009895', 'way/803009896', 'way/803009897', 'way/803014155', 'way/803030767', 'way/803241387', 'way/803241389', 'way/803241390', 'way/803241391', 'way/803253182', 'way/803253183', 'way/803287026', 'way/803287031', 'way/803337924', 'way/803337927', 'way/803337928', 'way/803337929', 'way/803342959', 'way/803342960', 'way/803342961', 'way/803342962', 'way/803342963', 'way/803342964', 'way/803342965', 'way/803342966', 'way/803342967', 'way/803342968', 'way/803342969', 'way/803342970', 'way/803421246', 'way/803421247', 'way/803421248', 'way/803421249', 'way/803421250', 'way/803421251', 'way/803421252', 'way/803421253', 'way/803421254', 'way/803421255', 'way/803421256', 'way/803421257', 'way/803421258', 'way/803421259', 'way/803421260', 'way/803421261', 'way/803421262', 'way/803421263', 'way/803421264', 'way/803421265', 'way/803421266', 'way/804349692', 'way/804349693', 'way/804541624', 'way/804541625', 'way/804541626', 'way/804541627', 'way/804541628', 'way/804853138', 'way/804929357', 'way/807448955', 'way/807448956', 'way/807448957', 'way/989176809', 'way/1091650318', 'way/1222931501', 'way/1305308177']\n"
     ]
    }
   ],
   "source": [
    "import pandas as pd\n",
    "from pulp import LpProblem, LpMinimize, LpVariable, lpSum\n",
    "\n",
    "# Load a matrix of distances from each point to every other point in the city, prepared by QGIS, with the correct delimiter\n",
    "data = pd.read_csv(r\"C:/Users/Yoanna/Downloads/notnntalfreisaal_OD.csv\", delimiter=';')\n",
    "\n",
    "# Check the columns\n",
    "print(data.columns)\n",
    "\n",
    "# Constraint for maximum distance (cost)\n",
    "max_total_cost = 1500\n",
    "\n",
    "# Transform data into a convenient format\n",
    "origin_ids = data['origin_id'].unique()        # All origin_id (buildings)\n",
    "destination_ids = data['destination_id'].unique()  # All destination_id (drugstore locations)\n",
    "\n",
    "# Optimization model\n",
    "model = LpProblem(\"Minimize_Number_Of_Drugstores\", LpMinimize)\n",
    "\n",
    "# Variables:\n",
    "# Binary variable for each destination_id (whether a drugstore is opened)\n",
    "x = {destination: LpVariable(f\"x_{destination}\", cat=\"Binary\") for destination in destination_ids}\n",
    "\n",
    "# Binary variable for each link (origin_id -> destination_id)\n",
    "y = {(origin_id, destination): LpVariable(f\"y_{origin_id}_{destination}\", cat=\"Binary\")\n",
    "     for origin_id in origin_ids for destination in destination_ids}\n",
    "\n",
    "# Objective function: minimize the number of open drugstores\n",
    "model += lpSum(x[destination] for destination in destination_ids)\n",
    "\n",
    "# Constraints:\n",
    "# 1. Each origin_id must be connected to exactly one drugstore\n",
    "for origin_id in origin_ids:\n",
    "    model += lpSum(y[(origin_id, destination)] for destination in destination_ids) == 1, f\"Cover_Origin_{origin_id}\"\n",
    "\n",
    "# 2. Connection (origin_id -> destination_id) is only allowed if the destination drugstore is open\n",
    "for origin_id in origin_ids:\n",
    "    for destination in destination_ids:\n",
    "        model += y[(origin_id, destination)] <= x[destination], f\"Link_Origin_{origin_id}_Destination_{destination}\"\n",
    "\n",
    "# 3. Disallow connections where distance (cost) exceeds the maximum allowed\n",
    "for _, row in data.iterrows():\n",
    "    origin_id = row['origin_id']\n",
    "    destination_id = row['destination_id']\n",
    "    if row['total_cost'] > max_total_cost:\n",
    "        model += y[(origin_id, destination_id)] == 0, f\"Cost_Limit_{origin_id}_{destination_id}\"\n",
    "\n",
    "# Solve the model\n",
    "model.solve()\n",
    "\n",
    "# Get results\n",
    "opened_drugstores = [destination for destination in destination_ids if x[destination].value() == 1]\n",
    "\n",
    "print(f\"Opened drugstores are located at: {opened_drugstores}\")\n",
    "\n",
    "# For each open drugstore, print the buildings assigned to it\n",
    "for destination in opened_drugstores:\n",
    "    assigned_buildings = [origin_id for origin_id in origin_ids if y[(origin_id, destination)].value() == 1]\n",
    "    print(f\"Drugstore at location {destination} serves the following buildings: {assigned_buildings}\")\n"
   ]
  },
  {
   "cell_type": "markdown",
   "metadata": {},
   "source": [
    "### Checking whether each building is connected to a built drugstore"
   ]
  },
  {
   "cell_type": "code",
   "execution_count": null,
   "metadata": {},
   "outputs": [],
   "source": [
    "if uncovered_origins:\n",
    "    print(f\"The following buildings do not have a valid connection to any drugstore: {uncovered_origins}\")\n",
    "    raise ValueError(\"Not all buildings can be covered.\")\n",
    "else:\n",
    "    print(\"All buildings have a valid connection to at least one drugstore.\")\n"
   ]
  },
  {
   "cell_type": "code",
   "execution_count": null,
   "metadata": {},
   "outputs": [],
   "source": [
    "# Check if all origin_id are assigned to at least one of the opened drugstores\n",
    "unassigned_origins = []\n",
    "\n",
    "for origin_id in origin_ids:\n",
    "    # Check if this origin_id is assigned to at least one of the opened drugstores\n",
    "    is_assigned = False\n",
    "    for destination in opened_drugstores:\n",
    "        if y[(origin_id, destination)].value() == 1:\n",
    "            is_assigned = True\n",
    "            break\n",
    "    if not is_assigned:\n",
    "        unassigned_origins.append(origin_id)\n",
    "\n",
    "# If there are unassigned origin_id, print them\n",
    "if unassigned_origins:\n",
    "    print(f\"Unassigned buildings (origin_id): {unassigned_origins}\")\n",
    "else:\n",
    "    print(\"All origin_id are assigned to at least one of the opened drugstores.\")\n"
   ]
  },
  {
   "cell_type": "markdown",
   "metadata": {},
   "source": [
    "### Limiting the Number of Open Drugstores to the Top 4 Based on Coverage\n",
    "#### Since Salzburg has districts whose buildings are very sparsely distributed, it was necessary to place a restriction in which no more than 4 drugstores could be built in a district. "
   ]
  },
  {
   "cell_type": "code",
   "execution_count": null,
   "metadata": {},
   "outputs": [],
   "source": [
    "# Check if the number of opened drugstores is greater than 4\n",
    "if len(opened_drugstores) > 4:\n",
    "    # Create a dictionary with the number of buildings served by each drugstore\n",
    "    drugstore_assignments = {destination: sum(y[(origin_id, destination)].value() for origin_id in origin_ids)\n",
    "                             for destination in opened_drugstores}\n",
    "\n",
    "    # Sort the drugstores by number of buildings served (from most to least)\n",
    "    sorted_drugstores = sorted(drugstore_assignments.items(), key=lambda item: item[1], reverse=True)\n",
    "\n",
    "    # Select the top 4 drugstores\n",
    "    top_drugstores = {item[0] for item in sorted_drugstores[:4]}\n",
    "\n",
    "    # Remove drugstores that are not in the top 4\n",
    "    for destination in opened_drugstores:\n",
    "        if destination not in top_drugstores:\n",
    "            x[destination].varValue = 0\n",
    "            for origin_id in origin_ids:\n",
    "                y[(origin_id, destination)].varValue = 0\n",
    "\n",
    "    # Update the list of opened drugstores\n",
    "    opened_drugstores = list(top_drugstores)\n",
    "\n",
    "# Print the result\n",
    "print(f\"Final opened drugstores (limited to 4): {opened_drugstores}\")\n",
    "\n",
    "# For each opened drugstore, list the origin_id values assigned to it\n",
    "for destination in opened_drugstores:\n",
    "    assigned_buildings = [origin_id for origin_id in origin_ids if y[(origin_id, destination)].value() == 1]\n",
    "    print(f\"Drugstore at location {destination} serves the following buildings: {assigned_buildings}\")\n"
   ]
  },
  {
   "cell_type": "markdown",
   "metadata": {},
   "source": [
    "### When there are existing drugstores in the district\n",
    "#### Since there are of course districts in Salzburg where there are already existing drugstores, a separate code has been created for these districts that allocates residential buildings (that are less than 1500 meters away) to the already built drugstores, and then finds a solution for the remaining buildings"
   ]
  },
  {
   "cell_type": "code",
   "execution_count": 3,
   "metadata": {},
   "outputs": [
    {
     "name": "stdout",
     "output_type": "stream",
     "text": [
      "Total number of buildings (origin_id): 520\n",
      "Number of buildings that are covered: 404\n",
      "Number of buildings that are not covered: 116\n"
     ]
    }
   ],
   "source": [
    "import pandas as pd\n",
    "from pulp import LpProblem, LpMinimize, LpVariable, lpSum\n",
    "\n",
    "# Load the data\n",
    "data = pd.read_csv(r\"C:\\Users\\Yoanna\\Downloads\\itzhagen_OD.csv\", delimiter=';')\n",
    "\n",
    "# Maximum allowed distance (total cost)\n",
    "max_total_cost = 1500\n",
    "\n",
    "# Pre-existing drugstores (provide your destination_id values)\n",
    "existing_drugstores = [\"way/956550043\"]  # Replace with actual IDs of existing drugstores\n",
    "\n",
    "# Determine whether each origin is covered by an existing drugstore within max distance\n",
    "data['Covered'] = data.apply(\n",
    "    lambda row: row['destination_id'] in existing_drugstores and row['total_cost'] <= max_total_cost,\n",
    "    axis=1\n",
    ")\n",
    "\n",
    "# Filter origin_ids that are covered\n",
    "covered_origin_ids = data[data['Covered']]['origin_id'].unique()\n",
    "\n",
    "# Identify origin_ids that are not covered\n",
    "all_origin_ids = data['origin_id'].unique()\n",
    "uncovered_origin_ids = [id_ for id_ in all_origin_ids if id_ not in covered_origin_ids]\n",
    "\n",
    "# Print summary of coverage\n",
    "print(f\"Total number of buildings (origin_id): {len(all_origin_ids)}\")\n",
    "print(f\"Number of buildings that are covered: {len(covered_origin_ids)}\")\n",
    "print(f\"Number of buildings that are not covered: {len(uncovered_origin_ids)}\")\n"
   ]
  },
  {
   "cell_type": "code",
   "execution_count": 4,
   "metadata": {},
   "outputs": [
    {
     "name": "stdout",
     "output_type": "stream",
     "text": [
      "New drugstores will be opened at the following locations: ['way/1017795419']\n",
      "Drugstore at location way/1017795419 serves the following buildings: ['way/58414623', 'way/58414639', 'way/58414641', 'way/58414643', 'way/85220894', 'way/97237534', 'way/112784382', 'way/112784383', 'way/112784385', 'way/112954253', 'way/115274731', 'way/115274776', 'way/115274861', 'way/115441052', 'way/115441063', 'way/115441064', 'way/115441073', 'way/115441075', 'way/115441079', 'way/115441083', 'way/115441094', 'way/115441100', 'way/115441102', 'way/115441105', 'way/115441109', 'way/115441113', 'way/115441125', 'way/115441129', 'way/115441130', 'way/117232596', 'way/117232598', 'way/117232599', 'way/117232600', 'way/117232602', 'way/117232603', 'way/117232605', 'way/117232606', 'way/117232608', 'way/117232609', 'way/117232610', 'way/117232612', 'way/117232613', 'way/117232616', 'way/117232621', 'way/117232622', 'way/117232623', 'way/117232624', 'way/117232626', 'way/117232627', 'way/117232629', 'way/117232630', 'way/117232631', 'way/117232632', 'way/117232633', 'way/117232635', 'way/117232636', 'way/117232637', 'way/117232639', 'way/117232640', 'way/117232641', 'way/117232642', 'way/117232643', 'way/117232646', 'way/117232647', 'way/117232648', 'way/117232649', 'way/117232651', 'way/117232652', 'way/117232654', 'way/117232655', 'way/117232656', 'way/117232657', 'way/117232660', 'way/117232661', 'way/117232662', 'way/117232663', 'way/117232664', 'way/117232665', 'way/117232667', 'way/117232669', 'way/117232670', 'way/117232671', 'way/117232674', 'way/117232675', 'way/117232676', 'way/117232678', 'way/117232679', 'way/117232680', 'way/117232681', 'way/117232682', 'way/143057605', 'way/156361567', 'way/179414477', 'way/204687504', 'way/204687505', 'way/365059255', 'way/478016000', 'way/478016001', 'way/478016002', 'way/478016003', 'way/478284913', 'way/829381866', 'way/1017795415', 'way/1017795416', 'way/1017795419', 'way/1017795423', 'way/1017795442', 'way/1017795446', 'way/1017795448', 'way/1208275798', 'way/1286745961', 'way/1316453696', 'way/1316453697', 'way/1316453698', 'way/1316453699', 'way/1316453700']\n"
     ]
    }
   ],
   "source": [
    "import pandas as pd\n",
    "from pulp import LpProblem, LpMinimize, LpVariable, lpSum\n",
    "\n",
    "# Load the data\n",
    "data = pd.read_csv(r\"C:\\Users\\Yoanna\\Downloads\\itzhagen_OD.csv\", delimiter=';')\n",
    "\n",
    "# Maximum allowed distance\n",
    "max_total_cost = 1500\n",
    "\n",
    "# Pre-existing drugstores (list of destination_id)\n",
    "existing_drugstores = [\"way/956550043\"]\n",
    "\n",
    "# Separate covered and uncovered buildings\n",
    "covered_origin_ids = set()\n",
    "for drugstore in existing_drugstores:\n",
    "    covered_origin_ids.update(\n",
    "        data[(data['destination_id'] == drugstore) & (data['total_cost'] <= max_total_cost)]['origin_id']\n",
    "    )\n",
    "\n",
    "# List of origin_ids that need to be served\n",
    "uncovered_data = data[~data['origin_id'].isin(covered_origin_ids)]\n",
    "\n",
    "# Unique origin_ids and destination_ids for uncovered locations\n",
    "uncovered_origin_ids = uncovered_data['origin_id'].unique()\n",
    "destination_ids = uncovered_data['destination_id'].unique()\n",
    "\n",
    "# Optimization model\n",
    "model = LpProblem(\"Minimize_Total_Cost\", LpMinimize)\n",
    "\n",
    "# Variables\n",
    "x = {destination: LpVariable(f\"x_{destination}\", cat=\"Binary\") for destination in destination_ids}  # New drugstores\n",
    "y = {(origin, destination): LpVariable(f\"y_{origin}_{destination}\", cat=\"Binary\")\n",
    "     for origin in uncovered_origin_ids for destination in destination_ids}  # Assignments\n",
    "\n",
    "# Objective: minimize the number of newly opened drugstores\n",
    "model += lpSum(x[destination] for destination in destination_ids)\n",
    "\n",
    "# Constraint 1: Every uncovered building must be connected to exactly one drugstore\n",
    "for origin in uncovered_origin_ids:\n",
    "    model += lpSum(y[(origin, destination)] for destination in destination_ids) == 1\n",
    "\n",
    "# Constraint 2: A building can only be connected to an open drugstore\n",
    "for origin in uncovered_origin_ids:\n",
    "    for destination in destination_ids:\n",
    "        model += y[(origin, destination)] <= x[destination]\n",
    "\n",
    "# Constraint 3: Limit the maximum distance between a building and a drugstore\n",
    "for _, row in uncovered_data.iterrows():\n",
    "    origin_id, destination_id, total_cost = row['origin_id'], row['destination_id'], row['total_cost']\n",
    "    if total_cost > max_total_cost:\n",
    "        model += y[(origin_id, destination_id)] == 0\n",
    "\n",
    "# Solve the model\n",
    "model.solve()\n",
    "\n",
    "# Results\n",
    "newly_opened_drugstores = [destination for destination in destination_ids if x[destination].value() == 1]\n",
    "\n",
    "print(f\"New drugstores will be opened at the following locations: {newly_opened_drugstores}\")\n",
    "\n",
    "# For each new drugstore, display the buildings it serves\n",
    "for destination in newly_opened_drugstores:\n",
    "    assigned_buildings = [origin for origin in uncovered_origin_ids if y[(origin, destination)].value() == 1]\n",
    "    print(f\"Drugstore at location {destination} serves the following buildings: {assigned_buildings}\")\n",
    "\n"
   ]
  }
 ],
 "metadata": {
  "kernelspec": {
   "display_name": "Python 3",
   "language": "python",
   "name": "python3"
  },
  "language_info": {
   "codemirror_mode": {
    "name": "ipython",
    "version": 3
   },
   "file_extension": ".py",
   "mimetype": "text/x-python",
   "name": "python",
   "nbconvert_exporter": "python",
   "pygments_lexer": "ipython3",
   "version": "3.12.5"
  }
 },
 "nbformat": 4,
 "nbformat_minor": 2
}
