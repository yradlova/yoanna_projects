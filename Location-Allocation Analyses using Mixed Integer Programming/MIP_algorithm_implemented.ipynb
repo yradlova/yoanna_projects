{
 "cells": [
  {
   "cell_type": "markdown",
   "metadata": {},
   "source": [
    "### Purpose of the Code:\n",
    "#### The goal of the code is to optimize the location of drugstores (Drogerien) in the city of Salzburg so that every residential building is assigned to one nearby store (within walking distance of 1500 meters), while minimizing the number of newly opened stores. The model is implemented using Mixed Integer Programming (MIP) and solved using Python (with PuLP).\n",
    "\n",
    "#### Constraints:\n",
    "\n",
    "1. Each building must be assigned to exactly one drugstore.\n",
    "\n",
    "2. A building can only be assigned to an open (selected) drugstore.\n",
    "\n",
    "3. Maximum walking distance is 1500 meters between building and store.\n",
    "\n",
    "4. Limit on the number of drugstores per district:\n",
    "\n",
    "- Usually max 4 per district, but up to 5 in \"Leopoldskron/Moos\" due to low density and long distances.\n",
    "\n",
    "5. For districts with existing drugstores, the model only optimizes for unserved buildings, using only new locations and adjusting the limit accordingly.\n",
    "\n",
    "6. If too many drugstores are selected, the model automatically keeps the ones that serve the most buildings within the 1500 m range.\n"
   ]
  },
  {
   "cell_type": "code",
   "execution_count": null,
   "metadata": {},
   "outputs": [
    {
     "name": "stdout",
     "output_type": "stream",
     "text": [
      "Index(['origin_id', 'destination_id', 'entry_cost', 'network_cost',\n",
      "       'exit_cost', 'total_cost'],\n",
      "      dtype='object')\n"
     ]
    }
   ],
   "source": [
    "import pandas as pd\n",
    "from pulp import LpProblem, LpMinimize, LpVariable, lpSum\n",
    "\n",
    "# Load a matrix of distances from each point to every other point in the city, prepared by QGIS, with the correct delimiter\n",
    "data = pd.read_csv(r\"C:/Users/Yoanna/Downloads/notnntalfreisaal_OD.csv\", delimiter=';')\n",
    "\n",
    "# Check the columns\n",
    "print(data.columns)\n",
    "\n",
    "# Constraint for maximum distance (cost)\n",
    "max_total_cost = 1500\n",
    "\n",
    "# Transform data into a convenient format\n",
    "origin_ids = data['origin_id'].unique()        # All origin_id (buildings)\n",
    "destination_ids = data['destination_id'].unique()  # All destination_id (drugstore locations)\n",
    "\n",
    "# Optimization model\n",
    "model = LpProblem(\"Minimize_Number_Of_Drugstores\", LpMinimize)\n",
    "\n",
    "# Variables:\n",
    "# Binary variable for each destination_id (whether a drugstore is opened)\n",
    "x = {destination: LpVariable(f\"x_{destination}\", cat=\"Binary\") for destination in destination_ids}\n",
    "\n",
    "# Binary variable for each link (origin_id -> destination_id)\n",
    "y = {(origin_id, destination): LpVariable(f\"y_{origin_id}_{destination}\", cat=\"Binary\")\n",
    "     for origin_id in origin_ids for destination in destination_ids}\n",
    "\n",
    "# Objective function: minimize the number of open drugstores\n",
    "model += lpSum(x[destination] for destination in destination_ids)\n",
    "\n",
    "# Constraints:\n",
    "# 1. Each origin_id must be connected to exactly one drugstore\n",
    "for origin_id in origin_ids:\n",
    "    model += lpSum(y[(origin_id, destination)] for destination in destination_ids) == 1, f\"Cover_Origin_{origin_id}\"\n",
    "\n",
    "# 2. Connection (origin_id -> destination_id) is only allowed if the destination drugstore is open\n",
    "for origin_id in origin_ids:\n",
    "    for destination in destination_ids:\n",
    "        model += y[(origin_id, destination)] <= x[destination], f\"Link_Origin_{origin_id}_Destination_{destination}\"\n",
    "\n",
    "# 3. Disallow connections where distance (cost) exceeds the maximum allowed\n",
    "for _, row in data.iterrows():\n",
    "    origin_id = row['origin_id']\n",
    "    destination_id = row['destination_id']\n",
    "    if row['total_cost'] > max_total_cost:\n",
    "        model += y[(origin_id, destination_id)] == 0, f\"Cost_Limit_{origin_id}_{destination_id}\"\n",
    "\n",
    "# Solve the model\n",
    "model.solve()\n",
    "\n",
    "# Get results\n",
    "opened_drugstores = [destination for destination in destination_ids if x[destination].value() == 1]\n",
    "\n",
    "print(f\"Opened drugstores are located at: {opened_drugstores}\")\n",
    "\n",
    "# For each open drugstore, print the buildings assigned to it\n",
    "for destination in opened_drugstores:\n",
    "    assigned_buildings = [origin_id for origin_id in origin_ids if y[(origin_id, destination)].value() == 1]\n",
    "    print(f\"Drugstore at location {destination} serves the following buildings: {assigned_buildings}\")\n"
   ]
  },
  {
   "cell_type": "markdown",
   "metadata": {},
   "source": [
    "### Checking whether each building is connected to a built drugstore"
   ]
  },
  {
   "cell_type": "code",
   "execution_count": null,
   "metadata": {},
   "outputs": [],
   "source": [
    "if uncovered_origins:\n",
    "    print(f\"The following buildings do not have a valid connection to any drugstore: {uncovered_origins}\")\n",
    "    raise ValueError(\"Not all buildings can be covered.\")\n",
    "else:\n",
    "    print(\"All buildings have a valid connection to at least one drugstore.\")\n"
   ]
  },
  {
   "cell_type": "code",
   "execution_count": null,
   "metadata": {},
   "outputs": [],
   "source": [
    "# Check if all origin_id are assigned to at least one of the opened drugstores\n",
    "unassigned_origins = []\n",
    "\n",
    "for origin_id in origin_ids:\n",
    "    # Check if this origin_id is assigned to at least one of the opened drugstores\n",
    "    is_assigned = False\n",
    "    for destination in opened_drugstores:\n",
    "        if y[(origin_id, destination)].value() == 1:\n",
    "            is_assigned = True\n",
    "            break\n",
    "    if not is_assigned:\n",
    "        unassigned_origins.append(origin_id)\n",
    "\n",
    "# If there are unassigned origin_id, print them\n",
    "if unassigned_origins:\n",
    "    print(f\"Unassigned buildings (origin_id): {unassigned_origins}\")\n",
    "else:\n",
    "    print(\"All origin_id are assigned to at least one of the opened drugstores.\")\n"
   ]
  },
  {
   "cell_type": "markdown",
   "metadata": {},
   "source": [
    "### Limiting the Number of Open Drugstores to the Top 4 Based on Coverage\n",
    "#### Since Salzburg has districts whose buildings are very sparsely distributed, it was necessary to place a restriction in which no more than 4 drugstores could be built in a district. "
   ]
  },
  {
   "cell_type": "code",
   "execution_count": null,
   "metadata": {},
   "outputs": [],
   "source": [
    "# Check if the number of opened drugstores is greater than 4\n",
    "if len(opened_drugstores) > 4:\n",
    "    # Create a dictionary with the number of buildings served by each drugstore\n",
    "    drugstore_assignments = {destination: sum(y[(origin_id, destination)].value() for origin_id in origin_ids)\n",
    "                             for destination in opened_drugstores}\n",
    "\n",
    "    # Sort the drugstores by number of buildings served (from most to least)\n",
    "    sorted_drugstores = sorted(drugstore_assignments.items(), key=lambda item: item[1], reverse=True)\n",
    "\n",
    "    # Select the top 4 drugstores\n",
    "    top_drugstores = {item[0] for item in sorted_drugstores[:4]}\n",
    "\n",
    "    # Remove drugstores that are not in the top 4\n",
    "    for destination in opened_drugstores:\n",
    "        if destination not in top_drugstores:\n",
    "            x[destination].varValue = 0\n",
    "            for origin_id in origin_ids:\n",
    "                y[(origin_id, destination)].varValue = 0\n",
    "\n",
    "    # Update the list of opened drugstores\n",
    "    opened_drugstores = list(top_drugstores)\n",
    "\n",
    "# Print the result\n",
    "print(f\"Final opened drugstores (limited to 4): {opened_drugstores}\")\n",
    "\n",
    "# For each opened drugstore, list the origin_id values assigned to it\n",
    "for destination in opened_drugstores:\n",
    "    assigned_buildings = [origin_id for origin_id in origin_ids if y[(origin_id, destination)].value() == 1]\n",
    "    print(f\"Drugstore at location {destination} serves the following buildings: {assigned_buildings}\")\n"
   ]
  },
  {
   "cell_type": "markdown",
   "metadata": {},
   "source": [
    "### When there are existing drugstores in the district\n",
    "#### Since there are of course districts in Salzburg where there are already existing drugstores, a separate code has been created for these districts that allocates residential buildings (that are less than 1500 meters away) to the already built drugstores, and then finds a solution for the remaining buildings"
   ]
  },
  {
   "cell_type": "code",
   "execution_count": 3,
   "metadata": {},
   "outputs": [
    {
     "name": "stdout",
     "output_type": "stream",
     "text": [
      "Total number of buildings (origin_id): 520\n",
      "Number of buildings that are covered: 404\n",
      "Number of buildings that are not covered: 116\n"
     ]
    }
   ],
   "source": [
    "import pandas as pd\n",
    "from pulp import LpProblem, LpMinimize, LpVariable, lpSum\n",
    "\n",
    "# Load the data\n",
    "data = pd.read_csv(r\"C:\\Users\\Yoanna\\Downloads\\itzhagen_OD.csv\", delimiter=';')\n",
    "\n",
    "# Maximum allowed distance (total cost)\n",
    "max_total_cost = 1500\n",
    "\n",
    "# Pre-existing drugstores (provide your destination_id values)\n",
    "existing_drugstores = [\"way/956550043\"]  # Replace with actual IDs of existing drugstores\n",
    "\n",
    "# Determine whether each origin is covered by an existing drugstore within max distance\n",
    "data['Covered'] = data.apply(\n",
    "    lambda row: row['destination_id'] in existing_drugstores and row['total_cost'] <= max_total_cost,\n",
    "    axis=1\n",
    ")\n",
    "\n",
    "# Filter origin_ids that are covered\n",
    "covered_origin_ids = data[data['Covered']]['origin_id'].unique()\n",
    "\n",
    "# Identify origin_ids that are not covered\n",
    "all_origin_ids = data['origin_id'].unique()\n",
    "uncovered_origin_ids = [id_ for id_ in all_origin_ids if id_ not in covered_origin_ids]\n",
    "\n",
    "# Print summary of coverage\n",
    "print(f\"Total number of buildings (origin_id): {len(all_origin_ids)}\")\n",
    "print(f\"Number of buildings that are covered: {len(covered_origin_ids)}\")\n",
    "print(f\"Number of buildings that are not covered: {len(uncovered_origin_ids)}\")\n"
   ]
  },
  {
   "cell_type": "code",
   "execution_count": 4,
   "metadata": {},
   "outputs": [
    {
     "name": "stdout",
     "output_type": "stream",
     "text": [
      "New drugstores will be opened at the following locations: ['way/1017795419']\n",
      "Drugstore at location way/1017795419 serves the following buildings: ['way/58414623', 'way/58414639', 'way/58414641', 'way/58414643', 'way/85220894', 'way/97237534', 'way/112784382', 'way/112784383', 'way/112784385', 'way/112954253', 'way/115274731', 'way/115274776', 'way/115274861', 'way/115441052', 'way/115441063', 'way/115441064', 'way/115441073', 'way/115441075', 'way/115441079', 'way/115441083', 'way/115441094', 'way/115441100', 'way/115441102', 'way/115441105', 'way/115441109', 'way/115441113', 'way/115441125', 'way/115441129', 'way/115441130', 'way/117232596', 'way/117232598', 'way/117232599', 'way/117232600', 'way/117232602', 'way/117232603', 'way/117232605', 'way/117232606', 'way/117232608', 'way/117232609', 'way/117232610', 'way/117232612', 'way/117232613', 'way/117232616', 'way/117232621', 'way/117232622', 'way/117232623', 'way/117232624', 'way/117232626', 'way/117232627', 'way/117232629', 'way/117232630', 'way/117232631', 'way/117232632', 'way/117232633', 'way/117232635', 'way/117232636', 'way/117232637', 'way/117232639', 'way/117232640', 'way/117232641', 'way/117232642', 'way/117232643', 'way/117232646', 'way/117232647', 'way/117232648', 'way/117232649', 'way/117232651', 'way/117232652', 'way/117232654', 'way/117232655', 'way/117232656', 'way/117232657', 'way/117232660', 'way/117232661', 'way/117232662', 'way/117232663', 'way/117232664', 'way/117232665', 'way/117232667', 'way/117232669', 'way/117232670', 'way/117232671', 'way/117232674', 'way/117232675', 'way/117232676', 'way/117232678', 'way/117232679', 'way/117232680', 'way/117232681', 'way/117232682', 'way/143057605', 'way/156361567', 'way/179414477', 'way/204687504', 'way/204687505', 'way/365059255', 'way/478016000', 'way/478016001', 'way/478016002', 'way/478016003', 'way/478284913', 'way/829381866', 'way/1017795415', 'way/1017795416', 'way/1017795419', 'way/1017795423', 'way/1017795442', 'way/1017795446', 'way/1017795448', 'way/1208275798', 'way/1286745961', 'way/1316453696', 'way/1316453697', 'way/1316453698', 'way/1316453699', 'way/1316453700']\n"
     ]
    }
   ],
   "source": [
    "import pandas as pd\n",
    "from pulp import LpProblem, LpMinimize, LpVariable, lpSum\n",
    "\n",
    "# Load the data\n",
    "data = pd.read_csv(r\"C:\\Users\\Yoanna\\Downloads\\itzhagen_OD.csv\", delimiter=';')\n",
    "\n",
    "# Maximum allowed distance\n",
    "max_total_cost = 1500\n",
    "\n",
    "# Pre-existing drugstores (list of destination_id)\n",
    "existing_drugstores = [\"way/956550043\"]\n",
    "\n",
    "# Separate covered and uncovered buildings\n",
    "covered_origin_ids = set()\n",
    "for drugstore in existing_drugstores:\n",
    "    covered_origin_ids.update(\n",
    "        data[(data['destination_id'] == drugstore) & (data['total_cost'] <= max_total_cost)]['origin_id']\n",
    "    )\n",
    "\n",
    "# List of origin_ids that need to be served\n",
    "uncovered_data = data[~data['origin_id'].isin(covered_origin_ids)]\n",
    "\n",
    "# Unique origin_ids and destination_ids for uncovered locations\n",
    "uncovered_origin_ids = uncovered_data['origin_id'].unique()\n",
    "destination_ids = uncovered_data['destination_id'].unique()\n",
    "\n",
    "# Optimization model\n",
    "model = LpProblem(\"Minimize_Total_Cost\", LpMinimize)\n",
    "\n",
    "# Variables\n",
    "x = {destination: LpVariable(f\"x_{destination}\", cat=\"Binary\") for destination in destination_ids}  # New drugstores\n",
    "y = {(origin, destination): LpVariable(f\"y_{origin}_{destination}\", cat=\"Binary\")\n",
    "     for origin in uncovered_origin_ids for destination in destination_ids}  # Assignments\n",
    "\n",
    "# Objective: minimize the number of newly opened drugstores\n",
    "model += lpSum(x[destination] for destination in destination_ids)\n",
    "\n",
    "# Constraint 1: Every uncovered building must be connected to exactly one drugstore\n",
    "for origin in uncovered_origin_ids:\n",
    "    model += lpSum(y[(origin, destination)] for destination in destination_ids) == 1\n",
    "\n",
    "# Constraint 2: A building can only be connected to an open drugstore\n",
    "for origin in uncovered_origin_ids:\n",
    "    for destination in destination_ids:\n",
    "        model += y[(origin, destination)] <= x[destination]\n",
    "\n",
    "# Constraint 3: Limit the maximum distance between a building and a drugstore\n",
    "for _, row in uncovered_data.iterrows():\n",
    "    origin_id, destination_id, total_cost = row['origin_id'], row['destination_id'], row['total_cost']\n",
    "    if total_cost > max_total_cost:\n",
    "        model += y[(origin_id, destination_id)] == 0\n",
    "\n",
    "# Solve the model\n",
    "model.solve()\n",
    "\n",
    "# Results\n",
    "newly_opened_drugstores = [destination for destination in destination_ids if x[destination].value() == 1]\n",
    "\n",
    "print(f\"New drugstores will be opened at the following locations: {newly_opened_drugstores}\")\n",
    "\n",
    "# For each new drugstore, display the buildings it serves\n",
    "for destination in newly_opened_drugstores:\n",
    "    assigned_buildings = [origin for origin in uncovered_origin_ids if y[(origin, destination)].value() == 1]\n",
    "    print(f\"Drugstore at location {destination} serves the following buildings: {assigned_buildings}\")\n",
    "\n"
   ]
  }
 ],
 "metadata": {
  "kernelspec": {
   "display_name": "Python 3",
   "language": "python",
   "name": "python3"
  },
  "language_info": {
   "codemirror_mode": {
    "name": "ipython",
    "version": 3
   },
   "file_extension": ".py",
   "mimetype": "text/x-python",
   "name": "python",
   "nbconvert_exporter": "python",
   "pygments_lexer": "ipython3",
   "version": "3.12.5"
  }
 },
 "nbformat": 4,
 "nbformat_minor": 2
}
